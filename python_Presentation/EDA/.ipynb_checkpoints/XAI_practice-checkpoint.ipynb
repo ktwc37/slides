{
 "cells": [
  {
   "cell_type": "markdown",
   "metadata": {},
   "source": [
    "# Explainable Artificial Intelligence (XAI) Practice"
   ]
  },
  {
   "cell_type": "markdown",
   "metadata": {},
   "source": [
    "-    Feature Importances\n",
    "-    Partial Dependence Plots\n",
    "-    Model Prediction Explanations with Local Interpretation\n",
    "-    Building Interpretable Models with Surrogate Tree-based Models\n",
    "-    Model Prediction Explanation with SHAP values\n",
    "-    Dependence & Interaction Plots with SHAP"
   ]
  },
  {
   "cell_type": "markdown",
   "metadata": {},
   "source": [
    "### Loading Necessary Dependencies"
   ]
  },
  {
   "cell_type": "code",
   "execution_count": 2,
   "metadata": {},
   "outputs": [
    {
     "ename": "SyntaxError",
     "evalue": "invalid syntax (<ipython-input-2-7b5fc73efd16>, line 3)",
     "output_type": "error",
     "traceback": [
      "\u001b[1;36m  File \u001b[1;32m\"<ipython-input-2-7b5fc73efd16>\"\u001b[1;36m, line \u001b[1;32m3\u001b[0m\n\u001b[1;33m    import .model_evaluation_utils as meu\u001b[0m\n\u001b[1;37m           ^\u001b[0m\n\u001b[1;31mSyntaxError\u001b[0m\u001b[1;31m:\u001b[0m invalid syntax\n"
     ]
    }
   ],
   "source": [
    "import pandas as pd\n",
    "import numpy as np\n",
    "import .model_evaluation_utils as meu\n",
    "import matplotlib.pyplot as plt\n",
    "from collections import Counter\n",
    "import shap\n",
    "import eli5\n",
    "\n",
    "import warnings\n",
    "warnings.filterwarning('ignore')\n",
    "plt.style.use('fivethirtyeight')\n",
    "%matplotlib inline\n",
    "\n",
    "shap.initjs()"
   ]
  },
  {
   "cell_type": "code",
   "execution_count": null,
   "metadata": {},
   "outputs": [],
   "source": []
  }
 ],
 "metadata": {
  "kernelspec": {
   "display_name": "Python 3",
   "language": "python",
   "name": "python3"
  },
  "language_info": {
   "codemirror_mode": {
    "name": "ipython",
    "version": 3
   },
   "file_extension": ".py",
   "mimetype": "text/x-python",
   "name": "python",
   "nbconvert_exporter": "python",
   "pygments_lexer": "ipython3",
   "version": "3.6.4"
  }
 },
 "nbformat": 4,
 "nbformat_minor": 2
}
